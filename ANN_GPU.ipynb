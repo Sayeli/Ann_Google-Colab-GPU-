{
  "nbformat": 4,
  "nbformat_minor": 0,
  "metadata": {
    "colab": {
      "name": "ANN_GPU.ipynb",
      "provenance": [],
      "include_colab_link": true
    },
    "kernelspec": {
      "name": "python3",
      "display_name": "Python 3"
    },
    "accelerator": "GPU"
  },
  "cells": [
    {
      "cell_type": "markdown",
      "metadata": {
        "id": "view-in-github",
        "colab_type": "text"
      },
      "source": [
        "<a href=\"https://colab.research.google.com/github/Sayeli/Ann_Google-Colab-GPU-/blob/master/ANN_GPU.ipynb\" target=\"_parent\"><img src=\"https://colab.research.google.com/assets/colab-badge.svg\" alt=\"Open In Colab\"/></a>"
      ]
    },
    {
      "cell_type": "code",
      "metadata": {
        "id": "b55TTGqBltO-",
        "colab_type": "code",
        "colab": {
          "base_uri": "https://localhost:8080/",
          "height": 97
        },
        "outputId": "3cd5a5ee-6b06-4460-c021-e539533a19f7"
      },
      "source": [
        "import tensorflow as tf\n",
        "tf.test.gpu_device_name()"
      ],
      "execution_count": 1,
      "outputs": [
        {
          "output_type": "display_data",
          "data": {
            "text/html": [
              "<p style=\"color: red;\">\n",
              "The default version of TensorFlow in Colab will soon switch to TensorFlow 2.x.<br>\n",
              "We recommend you <a href=\"https://www.tensorflow.org/guide/migrate\" target=\"_blank\">upgrade</a> now \n",
              "or ensure your notebook will continue to use TensorFlow 1.x via the <code>%tensorflow_version 1.x</code> magic:\n",
              "<a href=\"https://colab.research.google.com/notebooks/tensorflow_version.ipynb\" target=\"_blank\">more info</a>.</p>\n"
            ],
            "text/plain": [
              "<IPython.core.display.HTML object>"
            ]
          },
          "metadata": {
            "tags": []
          }
        },
        {
          "output_type": "execute_result",
          "data": {
            "text/plain": [
              "'/device:GPU:0'"
            ]
          },
          "metadata": {
            "tags": []
          },
          "execution_count": 1
        }
      ]
    },
    {
      "cell_type": "markdown",
      "metadata": {
        "id": "AuD2mjjKoEOV",
        "colab_type": "text"
      },
      "source": [
        "Which GPU Device u are using??"
      ]
    },
    {
      "cell_type": "code",
      "metadata": {
        "id": "doJEbyCJoLlb",
        "colab_type": "code",
        "colab": {
          "base_uri": "https://localhost:8080/",
          "height": 476
        },
        "outputId": "829645e1-6e1a-4501-e3fb-ac8d9aabffb1"
      },
      "source": [
        "from tensorflow.python.client import device_lib\n",
        "device_lib.list_local_devices()"
      ],
      "execution_count": 4,
      "outputs": [
        {
          "output_type": "execute_result",
          "data": {
            "text/plain": [
              "[name: \"/device:CPU:0\"\n",
              " device_type: \"CPU\"\n",
              " memory_limit: 268435456\n",
              " locality {\n",
              " }\n",
              " incarnation: 17891086919616604953, name: \"/device:XLA_CPU:0\"\n",
              " device_type: \"XLA_CPU\"\n",
              " memory_limit: 17179869184\n",
              " locality {\n",
              " }\n",
              " incarnation: 12869775336401450499\n",
              " physical_device_desc: \"device: XLA_CPU device\", name: \"/device:XLA_GPU:0\"\n",
              " device_type: \"XLA_GPU\"\n",
              " memory_limit: 17179869184\n",
              " locality {\n",
              " }\n",
              " incarnation: 1038734680161582140\n",
              " physical_device_desc: \"device: XLA_GPU device\", name: \"/device:GPU:0\"\n",
              " device_type: \"GPU\"\n",
              " memory_limit: 15956161332\n",
              " locality {\n",
              "   bus_id: 1\n",
              "   links {\n",
              "   }\n",
              " }\n",
              " incarnation: 18342418658082802046\n",
              " physical_device_desc: \"device: 0, name: Tesla P100-PCIE-16GB, pci bus id: 0000:00:04.0, compute capability: 6.0\"]"
            ]
          },
          "metadata": {
            "tags": []
          },
          "execution_count": 4
        }
      ]
    },
    {
      "cell_type": "markdown",
      "metadata": {
        "id": "9OGiGQVTpkLj",
        "colab_type": "text"
      },
      "source": [
        "RAM Info"
      ]
    },
    {
      "cell_type": "code",
      "metadata": {
        "id": "wVvP0DtUppZK",
        "colab_type": "code",
        "colab": {
          "base_uri": "https://localhost:8080/",
          "height": 782
        },
        "outputId": "d8f11691-f159-45bf-ebd1-ef6bcbc48831"
      },
      "source": [
        "!cat /proc/meminfo"
      ],
      "execution_count": 5,
      "outputs": [
        {
          "output_type": "stream",
          "text": [
            "MemTotal:       13335188 kB\n",
            "MemFree:        10150004 kB\n",
            "MemAvailable:   12231888 kB\n",
            "Buffers:           79152 kB\n",
            "Cached:          2111608 kB\n",
            "SwapCached:            0 kB\n",
            "Active:           848932 kB\n",
            "Inactive:        1927332 kB\n",
            "Active(anon):     511476 kB\n",
            "Inactive(anon):     8516 kB\n",
            "Active(file):     337456 kB\n",
            "Inactive(file):  1918816 kB\n",
            "Unevictable:           0 kB\n",
            "Mlocked:               0 kB\n",
            "SwapTotal:             0 kB\n",
            "SwapFree:              0 kB\n",
            "Dirty:               500 kB\n",
            "Writeback:             0 kB\n",
            "AnonPages:        585484 kB\n",
            "Mapped:           484916 kB\n",
            "Shmem:              9088 kB\n",
            "Slab:             174200 kB\n",
            "SReclaimable:     133100 kB\n",
            "SUnreclaim:        41100 kB\n",
            "KernelStack:        3856 kB\n",
            "PageTables:         7296 kB\n",
            "NFS_Unstable:          0 kB\n",
            "Bounce:                0 kB\n",
            "WritebackTmp:          0 kB\n",
            "CommitLimit:     6667592 kB\n",
            "Committed_AS:    3163224 kB\n",
            "VmallocTotal:   34359738367 kB\n",
            "VmallocUsed:           0 kB\n",
            "VmallocChunk:          0 kB\n",
            "AnonHugePages:         0 kB\n",
            "ShmemHugePages:        0 kB\n",
            "ShmemPmdMapped:        0 kB\n",
            "HugePages_Total:       0\n",
            "HugePages_Free:        0\n",
            "HugePages_Rsvd:        0\n",
            "HugePages_Surp:        0\n",
            "Hugepagesize:       2048 kB\n",
            "DirectMap4k:      186356 kB\n",
            "DirectMap2M:     5056512 kB\n",
            "DirectMap1G:    10485760 kB\n"
          ],
          "name": "stdout"
        }
      ]
    },
    {
      "cell_type": "markdown",
      "metadata": {
        "id": "5fEzwyHGqp9C",
        "colab_type": "text"
      },
      "source": [
        "cpu Info"
      ]
    },
    {
      "cell_type": "code",
      "metadata": {
        "id": "LUHwYf3GqURK",
        "colab_type": "code",
        "colab": {
          "base_uri": "https://localhost:8080/",
          "height": 955
        },
        "outputId": "156583c2-8f52-477c-9221-d195d005cd6c"
      },
      "source": [
        "!cat /proc/cpuinfo"
      ],
      "execution_count": 6,
      "outputs": [
        {
          "output_type": "stream",
          "text": [
            "processor\t: 0\n",
            "vendor_id\t: GenuineIntel\n",
            "cpu family\t: 6\n",
            "model\t\t: 85\n",
            "model name\t: Intel(R) Xeon(R) CPU @ 2.00GHz\n",
            "stepping\t: 3\n",
            "microcode\t: 0x1\n",
            "cpu MHz\t\t: 2000.186\n",
            "cache size\t: 39424 KB\n",
            "physical id\t: 0\n",
            "siblings\t: 2\n",
            "core id\t\t: 0\n",
            "cpu cores\t: 1\n",
            "apicid\t\t: 0\n",
            "initial apicid\t: 0\n",
            "fpu\t\t: yes\n",
            "fpu_exception\t: yes\n",
            "cpuid level\t: 13\n",
            "wp\t\t: yes\n",
            "flags\t\t: fpu vme de pse tsc msr pae mce cx8 apic sep mtrr pge mca cmov pat pse36 clflush mmx fxsr sse sse2 ss ht syscall nx pdpe1gb rdtscp lm constant_tsc rep_good nopl xtopology nonstop_tsc cpuid tsc_known_freq pni pclmulqdq ssse3 fma cx16 pcid sse4_1 sse4_2 x2apic movbe popcnt aes xsave avx f16c rdrand hypervisor lahf_lm abm 3dnowprefetch invpcid_single ssbd ibrs ibpb stibp fsgsbase tsc_adjust bmi1 hle avx2 smep bmi2 erms invpcid rtm mpx avx512f avx512dq rdseed adx smap clflushopt clwb avx512cd avx512bw avx512vl xsaveopt xsavec xgetbv1 xsaves arat md_clear arch_capabilities\n",
            "bugs\t\t: cpu_meltdown spectre_v1 spectre_v2 spec_store_bypass l1tf mds swapgs\n",
            "bogomips\t: 4000.37\n",
            "clflush size\t: 64\n",
            "cache_alignment\t: 64\n",
            "address sizes\t: 46 bits physical, 48 bits virtual\n",
            "power management:\n",
            "\n",
            "processor\t: 1\n",
            "vendor_id\t: GenuineIntel\n",
            "cpu family\t: 6\n",
            "model\t\t: 85\n",
            "model name\t: Intel(R) Xeon(R) CPU @ 2.00GHz\n",
            "stepping\t: 3\n",
            "microcode\t: 0x1\n",
            "cpu MHz\t\t: 2000.186\n",
            "cache size\t: 39424 KB\n",
            "physical id\t: 0\n",
            "siblings\t: 2\n",
            "core id\t\t: 0\n",
            "cpu cores\t: 1\n",
            "apicid\t\t: 1\n",
            "initial apicid\t: 1\n",
            "fpu\t\t: yes\n",
            "fpu_exception\t: yes\n",
            "cpuid level\t: 13\n",
            "wp\t\t: yes\n",
            "flags\t\t: fpu vme de pse tsc msr pae mce cx8 apic sep mtrr pge mca cmov pat pse36 clflush mmx fxsr sse sse2 ss ht syscall nx pdpe1gb rdtscp lm constant_tsc rep_good nopl xtopology nonstop_tsc cpuid tsc_known_freq pni pclmulqdq ssse3 fma cx16 pcid sse4_1 sse4_2 x2apic movbe popcnt aes xsave avx f16c rdrand hypervisor lahf_lm abm 3dnowprefetch invpcid_single ssbd ibrs ibpb stibp fsgsbase tsc_adjust bmi1 hle avx2 smep bmi2 erms invpcid rtm mpx avx512f avx512dq rdseed adx smap clflushopt clwb avx512cd avx512bw avx512vl xsaveopt xsavec xgetbv1 xsaves arat md_clear arch_capabilities\n",
            "bugs\t\t: cpu_meltdown spectre_v1 spectre_v2 spec_store_bypass l1tf mds swapgs\n",
            "bogomips\t: 4000.37\n",
            "clflush size\t: 64\n",
            "cache_alignment\t: 64\n",
            "address sizes\t: 46 bits physical, 48 bits virtual\n",
            "power management:\n",
            "\n"
          ],
          "name": "stdout"
        }
      ]
    },
    {
      "cell_type": "code",
      "metadata": {
        "id": "5Fsv97whtecK",
        "colab_type": "code",
        "colab": {}
      },
      "source": [
        ""
      ],
      "execution_count": 0,
      "outputs": []
    },
    {
      "cell_type": "code",
      "metadata": {
        "id": "CLpHCiPttvac",
        "colab_type": "code",
        "colab": {
          "base_uri": "https://localhost:8080/",
          "height": 411
        },
        "outputId": "742727e8-3378-4334-ccee-3c519ab00c63"
      },
      "source": [
        "from google.colab import drive\n",
        "drive.mount('/content/drive')"
      ],
      "execution_count": 10,
      "outputs": [
        {
          "output_type": "stream",
          "text": [
            "export PS1=\"root@39047bfae5be-5fbdb91a9cbf4fd58163a541e0cce4e8: \"\n",
            "bash: cannot set terminal process group (-1): Inappropriate ioctl for device\n",
            "bash: no job control in this shell\n",
            "root@39047bfae5be:/content# root@39047bfae5be-5fbdb91a9cbf4fd58163a541e0cce4e8: umount -f /content/drive || umount /content/drive; pkill -9 -x drive\n",
            "umount: /content/drive: no mount point specified.\n",
            "umount: /content/drive: no mount point specified.\n",
            "root@39047bfae5be-5fbdb91a9cbf4fd58163a541e0cce4e8: ( while `sleep 0.5`; do if [[ -d \"/content/drive\" && \"$(ls -A /content/drive)\" != \"\" ]]; then echo \"google.colab.drive MOUNTED\"; break; fi; done ) &\n",
            "[1] 2234\n",
            "root@39047bfae5be-5fbdb91a9cbf4fd58163a541e0cce4e8: cat /tmp/tmprbze68pi/drive.fifo | head -1 | ( /opt/google/drive/drive --features=max_parallel_push_task_instances:10,max_operation_batch_size:15,opendir_timeout_ms:60000,virtual_folders:true --inet_family=IPV4_ONLY --preferences=trusted_root_certs_file_path:/opt/google/drive/roots.pem,mount_point_path:/content/drive --console_auth 2>&1 | grep --line-buffered -E \"(Go to this URL in a browser: https://.*)$|Drive File Stream encountered a problem and has stopped\"; echo \"drive EXITED\"; ) &\n",
            "[2] 2238\n",
            "root@39047bfae5be-5fbdb91a9cbf4fd58163a541e0cce4e8: Go to this URL in a browser: https://accounts.google.com/o/oauth2/auth?client_id=947318989803-6bn6qk8qdgf4n4g3pfee6491hc0brc4i.apps.googleusercontent.com&redirect_uri=urn%3aietf%3awg%3aoauth%3a2.0%3aoob&response_type=code&scope=email%20https%3a%2f%2fwww.googleapis.com%2fauth%2fdocs.test%20https%3a%2f%2fwww.googleapis.com%2fauth%2fdrive%20https%3a%2f%2fwww.googleapis.com%2fauth%2fdrive.photos.readonly%20https%3a%2f%2fwww.googleapis.com%2fauth%2fpeopleapi.readonly\n",
            "Go to this URL in a browser: https://accounts.google.com/o/oauth2/auth?client_id=947318989803-6bn6qk8qdgf4n4g3pfee6491hc0brc4i.apps.googleusercontent.com&redirect_uri=urn%3aietf%3awg%3aoauth%3a2.0%3aoob&response_type=code&scope=email%20https%3a%2f%2fwww.googleapis.com%2fauth%2fdocs.test%20https%3a%2f%2fwww.googleapis.com%2fauth%2fdrive%20https%3a%2f%2fwww.googleapis.com%2fauth%2fdrive.photos.readonly%20https%3a%2f%2fwww.googleapis.com%2fauth%2fpeopleapi.readonly\n",
            "\n",
            "Enter your authorization code:\n",
            "··········\n",
            "google.colab.drive MOUNTED\n",
            "rm -rf \"/root/.config/Google/DriveFS/Logs/timeouts.txt\"\n",
            "root@39047bfae5be-5fbdb91a9cbf4fd58163a541e0cce4e8: nohup bash -c 'tail -n +0 -F \"/root/.config/Google/DriveFS/Logs/drive_fs.txt\" | grep --line-buffered \"QueryManager timed out\" > \"/root/.config/Google/DriveFS/Logs/timeouts.txt\" ' < /dev/null > /dev/null 2>&1 &\n",
            "[3] 2401\n",
            "root@39047bfae5be-5fbdb91a9cbf4fd58163a541e0cce4e8: disown -a\n",
            "root@39047bfae5be-5fbdb91a9cbf4fd58163a541e0cce4e8: exit\n",
            "Mounted at /content/drive\n"
          ],
          "name": "stdout"
        }
      ]
    },
    {
      "cell_type": "code",
      "metadata": {
        "id": "9CHClVrXuvSg",
        "colab_type": "code",
        "colab": {}
      },
      "source": [
        "!pip install -q keras"
      ],
      "execution_count": 0,
      "outputs": []
    },
    {
      "cell_type": "code",
      "metadata": {
        "id": "LolxSuXavIdW",
        "colab_type": "code",
        "colab": {}
      },
      "source": [
        "import pandas as pd\n"
      ],
      "execution_count": 0,
      "outputs": []
    },
    {
      "cell_type": "markdown",
      "metadata": {
        "id": "q5gDp2eyvX-_",
        "colab_type": "text"
      },
      "source": [
        "CREATE THE ANN MODEL\n"
      ]
    },
    {
      "cell_type": "code",
      "metadata": {
        "id": "qGhbD-AuvNqj",
        "colab_type": "code",
        "colab": {
          "base_uri": "https://localhost:8080/",
          "height": 1000
        },
        "outputId": "03a3b564-a80d-4ee6-e53a-c5d163b3b988"
      },
      "source": [
        "# Importing the libraries\n",
        "import numpy as np\n",
        "import matplotlib.pyplot as plt\n",
        "import pandas as pd\n",
        "\n",
        "# Importing the dataset\n",
        "dataset = pd.read_csv('/content/drive/My Drive/ANN /Churn_Modelling.csv')\n",
        "X = dataset.iloc[:, 3:13]\n",
        "y = dataset.iloc[:, 13]\n",
        "\n",
        "#Create dummy variables\n",
        "geography=pd.get_dummies(X[\"Geography\"],drop_first=True)\n",
        "gender=pd.get_dummies(X['Gender'],drop_first=True)\n",
        "\n",
        "## Concatenate the Data Frames\n",
        "\n",
        "X=pd.concat([X,geography,gender],axis=1)\n",
        "\n",
        "## Drop Unnecessary columns\n",
        "X=X.drop(['Geography','Gender'],axis=1)\n",
        "\n",
        "# Splitting the dataset into the Training set and Test set\n",
        "from sklearn.model_selection import train_test_split\n",
        "X_train, X_test, y_train, y_test = train_test_split(X, y, test_size = 0.2, random_state = 0)\n",
        "\n",
        "# Feature Scaling\n",
        "from sklearn.preprocessing import StandardScaler\n",
        "sc = StandardScaler()\n",
        "X_train = sc.fit_transform(X_train)\n",
        "X_test = sc.transform(X_test)\n",
        "\n",
        "# Part 2 - Now let's make the ANN!\n",
        "\n",
        "# Importing the Keras libraries and packages\n",
        "import keras\n",
        "from keras.models import Sequential\n",
        "from keras.layers import Dense\n",
        "from keras.layers import LeakyReLU,PReLU,ELU\n",
        "from keras.layers import Dropout\n",
        "\n",
        "\n",
        "# Initialising the ANN\n",
        "classifier = Sequential()\n",
        "\n",
        "# Adding the input layer and the first hidden layer\n",
        "classifier.add(Dense(output_dim = 6, init = 'he_uniform',activation='relu',input_dim = 11))\n",
        "\n",
        "# Adding the second hidden layer\n",
        "classifier.add(Dense(output_dim = 6, init = 'he_uniform',activation='relu'))\n",
        "# Adding the output layer\n",
        "classifier.add(Dense(output_dim = 1, init = 'glorot_uniform', activation = 'sigmoid'))\n",
        "\n",
        "# Compiling the ANN\n",
        "classifier.compile(optimizer = 'Adamax', loss = 'binary_crossentropy', metrics = ['accuracy'])\n",
        "\n",
        "# Fitting the ANN to the Training set\n",
        "model_history=classifier.fit(X_train, y_train,validation_split=0.33, batch_size = 10, nb_epoch = 100)\n",
        "# Part 3 - Making the predictions and evaluating the model\n",
        "\n",
        "# Predicting the Test set results\n",
        "y_pred = classifier.predict(X_test)\n",
        "y_pred = (y_pred > 0.5)\n",
        "\n",
        "# Making the Confusion Matrix\n",
        "from sklearn.metrics import confusion_matrix\n",
        "cm = confusion_matrix(y_test, y_pred)\n",
        "\n",
        "# Calculate the Accuracy\n",
        "from sklearn.metrics import accuracy_score\n",
        "score=accuracy_score(y_pred,y_test)\n"
      ],
      "execution_count": 13,
      "outputs": [
        {
          "output_type": "stream",
          "text": [
            "WARNING:tensorflow:From /usr/local/lib/python3.6/dist-packages/keras/backend/tensorflow_backend.py:66: The name tf.get_default_graph is deprecated. Please use tf.compat.v1.get_default_graph instead.\n",
            "\n",
            "WARNING:tensorflow:From /usr/local/lib/python3.6/dist-packages/keras/backend/tensorflow_backend.py:541: The name tf.placeholder is deprecated. Please use tf.compat.v1.placeholder instead.\n",
            "\n",
            "WARNING:tensorflow:From /usr/local/lib/python3.6/dist-packages/keras/backend/tensorflow_backend.py:4432: The name tf.random_uniform is deprecated. Please use tf.random.uniform instead.\n",
            "\n",
            "WARNING:tensorflow:From /usr/local/lib/python3.6/dist-packages/keras/optimizers.py:793: The name tf.train.Optimizer is deprecated. Please use tf.compat.v1.train.Optimizer instead.\n",
            "\n",
            "WARNING:tensorflow:From /usr/local/lib/python3.6/dist-packages/keras/backend/tensorflow_backend.py:3657: The name tf.log is deprecated. Please use tf.math.log instead.\n",
            "\n",
            "WARNING:tensorflow:From /usr/local/lib/python3.6/dist-packages/tensorflow_core/python/ops/nn_impl.py:183: where (from tensorflow.python.ops.array_ops) is deprecated and will be removed in a future version.\n",
            "Instructions for updating:\n",
            "Use tf.where in 2.0, which has the same broadcast rule as np.where\n"
          ],
          "name": "stdout"
        },
        {
          "output_type": "stream",
          "text": [
            "Using TensorFlow backend.\n",
            "/usr/local/lib/python3.6/dist-packages/ipykernel_launcher.py:45: UserWarning: Update your `Dense` call to the Keras 2 API: `Dense(activation=\"relu\", input_dim=11, units=6, kernel_initializer=\"he_uniform\")`\n",
            "/usr/local/lib/python3.6/dist-packages/ipykernel_launcher.py:48: UserWarning: Update your `Dense` call to the Keras 2 API: `Dense(activation=\"relu\", units=6, kernel_initializer=\"he_uniform\")`\n",
            "/usr/local/lib/python3.6/dist-packages/ipykernel_launcher.py:50: UserWarning: Update your `Dense` call to the Keras 2 API: `Dense(activation=\"sigmoid\", units=1, kernel_initializer=\"glorot_uniform\")`\n",
            "/usr/local/lib/python3.6/dist-packages/ipykernel_launcher.py:56: UserWarning: The `nb_epoch` argument in `fit` has been renamed `epochs`.\n"
          ],
          "name": "stderr"
        },
        {
          "output_type": "stream",
          "text": [
            "WARNING:tensorflow:From /usr/local/lib/python3.6/dist-packages/keras/backend/tensorflow_backend.py:1033: The name tf.assign_add is deprecated. Please use tf.compat.v1.assign_add instead.\n",
            "\n",
            "WARNING:tensorflow:From /usr/local/lib/python3.6/dist-packages/keras/backend/tensorflow_backend.py:1020: The name tf.assign is deprecated. Please use tf.compat.v1.assign instead.\n",
            "\n",
            "WARNING:tensorflow:From /usr/local/lib/python3.6/dist-packages/keras/backend/tensorflow_backend.py:3005: The name tf.Session is deprecated. Please use tf.compat.v1.Session instead.\n",
            "\n",
            "Train on 5359 samples, validate on 2641 samples\n",
            "Epoch 1/100\n",
            "WARNING:tensorflow:From /usr/local/lib/python3.6/dist-packages/keras/backend/tensorflow_backend.py:190: The name tf.get_default_session is deprecated. Please use tf.compat.v1.get_default_session instead.\n",
            "\n",
            "WARNING:tensorflow:From /usr/local/lib/python3.6/dist-packages/keras/backend/tensorflow_backend.py:197: The name tf.ConfigProto is deprecated. Please use tf.compat.v1.ConfigProto instead.\n",
            "\n",
            "WARNING:tensorflow:From /usr/local/lib/python3.6/dist-packages/keras/backend/tensorflow_backend.py:207: The name tf.global_variables is deprecated. Please use tf.compat.v1.global_variables instead.\n",
            "\n",
            "WARNING:tensorflow:From /usr/local/lib/python3.6/dist-packages/keras/backend/tensorflow_backend.py:216: The name tf.is_variable_initialized is deprecated. Please use tf.compat.v1.is_variable_initialized instead.\n",
            "\n",
            "WARNING:tensorflow:From /usr/local/lib/python3.6/dist-packages/keras/backend/tensorflow_backend.py:223: The name tf.variables_initializer is deprecated. Please use tf.compat.v1.variables_initializer instead.\n",
            "\n",
            "5359/5359 [==============================] - 10s 2ms/step - loss: 0.5486 - acc: 0.7738 - val_loss: 0.4916 - val_acc: 0.7944\n",
            "Epoch 2/100\n",
            "5359/5359 [==============================] - 2s 375us/step - loss: 0.4769 - acc: 0.7960 - val_loss: 0.4627 - val_acc: 0.7986\n",
            "Epoch 3/100\n",
            "5359/5359 [==============================] - 2s 387us/step - loss: 0.4524 - acc: 0.8026 - val_loss: 0.4495 - val_acc: 0.7993\n",
            "Epoch 4/100\n",
            "5359/5359 [==============================] - 2s 376us/step - loss: 0.4393 - acc: 0.8085 - val_loss: 0.4417 - val_acc: 0.8058\n",
            "Epoch 5/100\n",
            "5359/5359 [==============================] - 2s 375us/step - loss: 0.4320 - acc: 0.8115 - val_loss: 0.4382 - val_acc: 0.8080\n",
            "Epoch 6/100\n",
            "5359/5359 [==============================] - 2s 370us/step - loss: 0.4275 - acc: 0.8151 - val_loss: 0.4348 - val_acc: 0.8084\n",
            "Epoch 7/100\n",
            "5359/5359 [==============================] - 2s 384us/step - loss: 0.4236 - acc: 0.8168 - val_loss: 0.4322 - val_acc: 0.8118\n",
            "Epoch 8/100\n",
            "5359/5359 [==============================] - 2s 374us/step - loss: 0.4200 - acc: 0.8207 - val_loss: 0.4289 - val_acc: 0.8145\n",
            "Epoch 9/100\n",
            "5359/5359 [==============================] - 2s 376us/step - loss: 0.4156 - acc: 0.8240 - val_loss: 0.4270 - val_acc: 0.8148\n",
            "Epoch 10/100\n",
            "5359/5359 [==============================] - 2s 371us/step - loss: 0.4109 - acc: 0.8289 - val_loss: 0.4239 - val_acc: 0.8175\n",
            "Epoch 11/100\n",
            "5359/5359 [==============================] - 2s 385us/step - loss: 0.4055 - acc: 0.8306 - val_loss: 0.4189 - val_acc: 0.8228\n",
            "Epoch 12/100\n",
            "5359/5359 [==============================] - 2s 379us/step - loss: 0.3999 - acc: 0.8367 - val_loss: 0.4140 - val_acc: 0.8217\n",
            "Epoch 13/100\n",
            "5359/5359 [==============================] - 2s 377us/step - loss: 0.3935 - acc: 0.8397 - val_loss: 0.4087 - val_acc: 0.8228\n",
            "Epoch 14/100\n",
            "5359/5359 [==============================] - 2s 390us/step - loss: 0.3873 - acc: 0.8455 - val_loss: 0.4035 - val_acc: 0.8251\n",
            "Epoch 15/100\n",
            "5359/5359 [==============================] - 2s 375us/step - loss: 0.3814 - acc: 0.8461 - val_loss: 0.3969 - val_acc: 0.8277\n",
            "Epoch 16/100\n",
            "5359/5359 [==============================] - 2s 381us/step - loss: 0.3756 - acc: 0.8498 - val_loss: 0.3911 - val_acc: 0.8319\n",
            "Epoch 17/100\n",
            "5359/5359 [==============================] - 2s 381us/step - loss: 0.3700 - acc: 0.8528 - val_loss: 0.3857 - val_acc: 0.8372\n",
            "Epoch 18/100\n",
            "5359/5359 [==============================] - 2s 375us/step - loss: 0.3655 - acc: 0.8569 - val_loss: 0.3824 - val_acc: 0.8364\n",
            "Epoch 19/100\n",
            "5359/5359 [==============================] - 2s 372us/step - loss: 0.3614 - acc: 0.8558 - val_loss: 0.3785 - val_acc: 0.8444\n",
            "Epoch 20/100\n",
            "5359/5359 [==============================] - 2s 382us/step - loss: 0.3581 - acc: 0.8571 - val_loss: 0.3751 - val_acc: 0.8478\n",
            "Epoch 21/100\n",
            "5359/5359 [==============================] - 2s 383us/step - loss: 0.3553 - acc: 0.8580 - val_loss: 0.3733 - val_acc: 0.8474\n",
            "Epoch 22/100\n",
            "5359/5359 [==============================] - 2s 395us/step - loss: 0.3532 - acc: 0.8591 - val_loss: 0.3723 - val_acc: 0.8463\n",
            "Epoch 23/100\n",
            "5359/5359 [==============================] - 2s 410us/step - loss: 0.3509 - acc: 0.8593 - val_loss: 0.3708 - val_acc: 0.8470\n",
            "Epoch 24/100\n",
            "5359/5359 [==============================] - 2s 411us/step - loss: 0.3488 - acc: 0.8591 - val_loss: 0.3704 - val_acc: 0.8463\n",
            "Epoch 25/100\n",
            "5359/5359 [==============================] - 2s 397us/step - loss: 0.3478 - acc: 0.8584 - val_loss: 0.3679 - val_acc: 0.8516\n",
            "Epoch 26/100\n",
            "5359/5359 [==============================] - 2s 397us/step - loss: 0.3468 - acc: 0.8586 - val_loss: 0.3666 - val_acc: 0.8501\n",
            "Epoch 27/100\n",
            "5359/5359 [==============================] - 2s 376us/step - loss: 0.3456 - acc: 0.8595 - val_loss: 0.3659 - val_acc: 0.8485\n",
            "Epoch 28/100\n",
            "5359/5359 [==============================] - 2s 370us/step - loss: 0.3443 - acc: 0.8593 - val_loss: 0.3657 - val_acc: 0.8497\n",
            "Epoch 29/100\n",
            "5359/5359 [==============================] - 2s 381us/step - loss: 0.3431 - acc: 0.8595 - val_loss: 0.3657 - val_acc: 0.8516\n",
            "Epoch 30/100\n",
            "5359/5359 [==============================] - 2s 377us/step - loss: 0.3422 - acc: 0.8597 - val_loss: 0.3653 - val_acc: 0.8516\n",
            "Epoch 31/100\n",
            "5359/5359 [==============================] - 2s 377us/step - loss: 0.3417 - acc: 0.8602 - val_loss: 0.3664 - val_acc: 0.8497\n",
            "Epoch 32/100\n",
            "5359/5359 [==============================] - 2s 377us/step - loss: 0.3413 - acc: 0.8593 - val_loss: 0.3643 - val_acc: 0.8512\n",
            "Epoch 33/100\n",
            "5359/5359 [==============================] - 2s 372us/step - loss: 0.3403 - acc: 0.8604 - val_loss: 0.3651 - val_acc: 0.8512\n",
            "Epoch 34/100\n",
            "5359/5359 [==============================] - 2s 390us/step - loss: 0.3399 - acc: 0.8610 - val_loss: 0.3652 - val_acc: 0.8512\n",
            "Epoch 35/100\n",
            "5359/5359 [==============================] - 2s 396us/step - loss: 0.3396 - acc: 0.8602 - val_loss: 0.3642 - val_acc: 0.8508\n",
            "Epoch 36/100\n",
            "5359/5359 [==============================] - 2s 375us/step - loss: 0.3393 - acc: 0.8612 - val_loss: 0.3641 - val_acc: 0.8501\n",
            "Epoch 37/100\n",
            "5359/5359 [==============================] - 2s 370us/step - loss: 0.3387 - acc: 0.8597 - val_loss: 0.3645 - val_acc: 0.8485\n",
            "Epoch 38/100\n",
            "5359/5359 [==============================] - 2s 374us/step - loss: 0.3384 - acc: 0.8597 - val_loss: 0.3638 - val_acc: 0.8538\n",
            "Epoch 39/100\n",
            "5359/5359 [==============================] - 2s 379us/step - loss: 0.3378 - acc: 0.8582 - val_loss: 0.3631 - val_acc: 0.8508\n",
            "Epoch 40/100\n",
            "5359/5359 [==============================] - 2s 368us/step - loss: 0.3378 - acc: 0.8600 - val_loss: 0.3633 - val_acc: 0.8508\n",
            "Epoch 41/100\n",
            "5359/5359 [==============================] - 2s 372us/step - loss: 0.3376 - acc: 0.8608 - val_loss: 0.3628 - val_acc: 0.8512\n",
            "Epoch 42/100\n",
            "5359/5359 [==============================] - 2s 370us/step - loss: 0.3372 - acc: 0.8604 - val_loss: 0.3641 - val_acc: 0.8489\n",
            "Epoch 43/100\n",
            "5359/5359 [==============================] - 2s 375us/step - loss: 0.3373 - acc: 0.8612 - val_loss: 0.3632 - val_acc: 0.8485\n",
            "Epoch 44/100\n",
            "5359/5359 [==============================] - 2s 372us/step - loss: 0.3368 - acc: 0.8621 - val_loss: 0.3632 - val_acc: 0.8520\n",
            "Epoch 45/100\n",
            "5359/5359 [==============================] - 2s 375us/step - loss: 0.3366 - acc: 0.8600 - val_loss: 0.3633 - val_acc: 0.8497\n",
            "Epoch 46/100\n",
            "5359/5359 [==============================] - 2s 369us/step - loss: 0.3364 - acc: 0.8599 - val_loss: 0.3632 - val_acc: 0.8493\n",
            "Epoch 47/100\n",
            "5359/5359 [==============================] - 2s 373us/step - loss: 0.3363 - acc: 0.8619 - val_loss: 0.3622 - val_acc: 0.8520\n",
            "Epoch 48/100\n",
            "5359/5359 [==============================] - 2s 370us/step - loss: 0.3358 - acc: 0.8614 - val_loss: 0.3619 - val_acc: 0.8538\n",
            "Epoch 49/100\n",
            "5359/5359 [==============================] - 2s 374us/step - loss: 0.3357 - acc: 0.8610 - val_loss: 0.3625 - val_acc: 0.8504\n",
            "Epoch 50/100\n",
            "5359/5359 [==============================] - 2s 378us/step - loss: 0.3357 - acc: 0.8640 - val_loss: 0.3612 - val_acc: 0.8538\n",
            "Epoch 51/100\n",
            "5359/5359 [==============================] - 2s 372us/step - loss: 0.3355 - acc: 0.8610 - val_loss: 0.3619 - val_acc: 0.8489\n",
            "Epoch 52/100\n",
            "5359/5359 [==============================] - 2s 372us/step - loss: 0.3352 - acc: 0.8625 - val_loss: 0.3619 - val_acc: 0.8520\n",
            "Epoch 53/100\n",
            "5359/5359 [==============================] - 2s 380us/step - loss: 0.3351 - acc: 0.8600 - val_loss: 0.3619 - val_acc: 0.8523\n",
            "Epoch 54/100\n",
            "5359/5359 [==============================] - 2s 375us/step - loss: 0.3347 - acc: 0.8621 - val_loss: 0.3634 - val_acc: 0.8497\n",
            "Epoch 55/100\n",
            "5359/5359 [==============================] - 2s 379us/step - loss: 0.3351 - acc: 0.8623 - val_loss: 0.3607 - val_acc: 0.8523\n",
            "Epoch 56/100\n",
            "5359/5359 [==============================] - 2s 372us/step - loss: 0.3345 - acc: 0.8625 - val_loss: 0.3611 - val_acc: 0.8516\n",
            "Epoch 57/100\n",
            "5359/5359 [==============================] - 2s 376us/step - loss: 0.3343 - acc: 0.8614 - val_loss: 0.3612 - val_acc: 0.8512\n",
            "Epoch 58/100\n",
            "5359/5359 [==============================] - 2s 373us/step - loss: 0.3338 - acc: 0.8612 - val_loss: 0.3604 - val_acc: 0.8535\n",
            "Epoch 59/100\n",
            "5359/5359 [==============================] - 2s 371us/step - loss: 0.3336 - acc: 0.8623 - val_loss: 0.3592 - val_acc: 0.8535\n",
            "Epoch 60/100\n",
            "5359/5359 [==============================] - 2s 370us/step - loss: 0.3332 - acc: 0.8625 - val_loss: 0.3609 - val_acc: 0.8497\n",
            "Epoch 61/100\n",
            "5359/5359 [==============================] - 2s 383us/step - loss: 0.3336 - acc: 0.8632 - val_loss: 0.3599 - val_acc: 0.8516\n",
            "Epoch 62/100\n",
            "5359/5359 [==============================] - 2s 376us/step - loss: 0.3333 - acc: 0.8627 - val_loss: 0.3593 - val_acc: 0.8523\n",
            "Epoch 63/100\n",
            "5359/5359 [==============================] - 2s 377us/step - loss: 0.3333 - acc: 0.8623 - val_loss: 0.3591 - val_acc: 0.8546\n",
            "Epoch 64/100\n",
            "5359/5359 [==============================] - 2s 370us/step - loss: 0.3325 - acc: 0.8608 - val_loss: 0.3595 - val_acc: 0.8546\n",
            "Epoch 65/100\n",
            "5359/5359 [==============================] - 2s 374us/step - loss: 0.3326 - acc: 0.8628 - val_loss: 0.3592 - val_acc: 0.8520\n",
            "Epoch 66/100\n",
            "5359/5359 [==============================] - 2s 368us/step - loss: 0.3322 - acc: 0.8647 - val_loss: 0.3580 - val_acc: 0.8542\n",
            "Epoch 67/100\n",
            "5359/5359 [==============================] - 2s 374us/step - loss: 0.3323 - acc: 0.8615 - val_loss: 0.3596 - val_acc: 0.8516\n",
            "Epoch 68/100\n",
            "5359/5359 [==============================] - 2s 374us/step - loss: 0.3318 - acc: 0.8627 - val_loss: 0.3587 - val_acc: 0.8546\n",
            "Epoch 69/100\n",
            "5359/5359 [==============================] - 2s 366us/step - loss: 0.3319 - acc: 0.8627 - val_loss: 0.3589 - val_acc: 0.8527\n",
            "Epoch 70/100\n",
            "5359/5359 [==============================] - 2s 368us/step - loss: 0.3316 - acc: 0.8640 - val_loss: 0.3584 - val_acc: 0.8520\n",
            "Epoch 71/100\n",
            "5359/5359 [==============================] - 2s 373us/step - loss: 0.3315 - acc: 0.8623 - val_loss: 0.3592 - val_acc: 0.8538\n",
            "Epoch 72/100\n",
            "5359/5359 [==============================] - 2s 377us/step - loss: 0.3312 - acc: 0.8604 - val_loss: 0.3579 - val_acc: 0.8554\n",
            "Epoch 73/100\n",
            "5359/5359 [==============================] - 2s 366us/step - loss: 0.3311 - acc: 0.8625 - val_loss: 0.3586 - val_acc: 0.8542\n",
            "Epoch 74/100\n",
            "5359/5359 [==============================] - 2s 371us/step - loss: 0.3312 - acc: 0.8630 - val_loss: 0.3582 - val_acc: 0.8554\n",
            "Epoch 75/100\n",
            "5359/5359 [==============================] - 2s 365us/step - loss: 0.3311 - acc: 0.8615 - val_loss: 0.3586 - val_acc: 0.8531\n",
            "Epoch 76/100\n",
            "5359/5359 [==============================] - 2s 366us/step - loss: 0.3310 - acc: 0.8636 - val_loss: 0.3580 - val_acc: 0.8546\n",
            "Epoch 77/100\n",
            "5359/5359 [==============================] - 2s 370us/step - loss: 0.3309 - acc: 0.8621 - val_loss: 0.3577 - val_acc: 0.8557\n",
            "Epoch 78/100\n",
            "5359/5359 [==============================] - 2s 374us/step - loss: 0.3309 - acc: 0.8625 - val_loss: 0.3581 - val_acc: 0.8550\n",
            "Epoch 79/100\n",
            "5359/5359 [==============================] - 2s 369us/step - loss: 0.3301 - acc: 0.8621 - val_loss: 0.3573 - val_acc: 0.8554\n",
            "Epoch 80/100\n",
            "5359/5359 [==============================] - 2s 377us/step - loss: 0.3302 - acc: 0.8621 - val_loss: 0.3578 - val_acc: 0.8557\n",
            "Epoch 81/100\n",
            "5359/5359 [==============================] - 2s 375us/step - loss: 0.3304 - acc: 0.8630 - val_loss: 0.3572 - val_acc: 0.8557\n",
            "Epoch 82/100\n",
            "5359/5359 [==============================] - 2s 363us/step - loss: 0.3303 - acc: 0.8619 - val_loss: 0.3581 - val_acc: 0.8542\n",
            "Epoch 83/100\n",
            "5359/5359 [==============================] - 2s 378us/step - loss: 0.3301 - acc: 0.8632 - val_loss: 0.3578 - val_acc: 0.8542\n",
            "Epoch 84/100\n",
            "5359/5359 [==============================] - 2s 365us/step - loss: 0.3303 - acc: 0.8623 - val_loss: 0.3588 - val_acc: 0.8520\n",
            "Epoch 85/100\n",
            "5359/5359 [==============================] - 2s 369us/step - loss: 0.3299 - acc: 0.8643 - val_loss: 0.3574 - val_acc: 0.8557\n",
            "Epoch 86/100\n",
            "5359/5359 [==============================] - 2s 392us/step - loss: 0.3299 - acc: 0.8655 - val_loss: 0.3588 - val_acc: 0.8535\n",
            "Epoch 87/100\n",
            "5359/5359 [==============================] - 2s 380us/step - loss: 0.3298 - acc: 0.8628 - val_loss: 0.3581 - val_acc: 0.8535\n",
            "Epoch 88/100\n",
            "5359/5359 [==============================] - 2s 369us/step - loss: 0.3296 - acc: 0.8632 - val_loss: 0.3591 - val_acc: 0.8516\n",
            "Epoch 89/100\n",
            "5359/5359 [==============================] - 2s 367us/step - loss: 0.3294 - acc: 0.8610 - val_loss: 0.3614 - val_acc: 0.8538\n",
            "Epoch 90/100\n",
            "5359/5359 [==============================] - 2s 367us/step - loss: 0.3300 - acc: 0.8623 - val_loss: 0.3578 - val_acc: 0.8557\n",
            "Epoch 91/100\n",
            "5359/5359 [==============================] - 2s 364us/step - loss: 0.3299 - acc: 0.8625 - val_loss: 0.3578 - val_acc: 0.8550\n",
            "Epoch 92/100\n",
            "5359/5359 [==============================] - 2s 376us/step - loss: 0.3295 - acc: 0.8623 - val_loss: 0.3574 - val_acc: 0.8542\n",
            "Epoch 93/100\n",
            "5359/5359 [==============================] - 2s 374us/step - loss: 0.3297 - acc: 0.8645 - val_loss: 0.3583 - val_acc: 0.8554\n",
            "Epoch 94/100\n",
            "5359/5359 [==============================] - 2s 377us/step - loss: 0.3293 - acc: 0.8642 - val_loss: 0.3574 - val_acc: 0.8527\n",
            "Epoch 95/100\n",
            "5359/5359 [==============================] - 2s 384us/step - loss: 0.3292 - acc: 0.8634 - val_loss: 0.3573 - val_acc: 0.8542\n",
            "Epoch 96/100\n",
            "5359/5359 [==============================] - 2s 382us/step - loss: 0.3290 - acc: 0.8642 - val_loss: 0.3579 - val_acc: 0.8542\n",
            "Epoch 97/100\n",
            "5359/5359 [==============================] - 2s 370us/step - loss: 0.3290 - acc: 0.8612 - val_loss: 0.3573 - val_acc: 0.8538\n",
            "Epoch 98/100\n",
            "5359/5359 [==============================] - 2s 372us/step - loss: 0.3294 - acc: 0.8617 - val_loss: 0.3566 - val_acc: 0.8520\n",
            "Epoch 99/100\n",
            "5359/5359 [==============================] - 2s 367us/step - loss: 0.3294 - acc: 0.8634 - val_loss: 0.3574 - val_acc: 0.8535\n",
            "Epoch 100/100\n",
            "5359/5359 [==============================] - 2s 370us/step - loss: 0.3289 - acc: 0.8627 - val_loss: 0.3579 - val_acc: 0.8523\n"
          ],
          "name": "stdout"
        }
      ]
    },
    {
      "cell_type": "code",
      "metadata": {
        "id": "_sdtYkpU0cI6",
        "colab_type": "code",
        "colab": {
          "base_uri": "https://localhost:8080/",
          "height": 68
        },
        "outputId": "50e236ce-5156-4402-ebf6-09ddc5a731e7"
      },
      "source": [
        "# Predicting the Test set results\n",
        "y_pred = classifier.predict(X_test)\n",
        "y_pred = (y_pred > 0.5)\n",
        "\n",
        "# Making the Confusion Matrix\n",
        "from sklearn.metrics import confusion_matrix\n",
        "cm = confusion_matrix(y_test, y_pred)\n",
        "print(cm)\n",
        "# Calculate the Accuracy\n",
        "from sklearn.metrics import accuracy_score\n",
        "score=accuracy_score(y_pred,y_test)\n",
        "print(score)\n"
      ],
      "execution_count": 16,
      "outputs": [
        {
          "output_type": "stream",
          "text": [
            "[[1515   80]\n",
            " [ 207  198]]\n",
            "0.8565\n"
          ],
          "name": "stdout"
        }
      ]
    }
  ]
}